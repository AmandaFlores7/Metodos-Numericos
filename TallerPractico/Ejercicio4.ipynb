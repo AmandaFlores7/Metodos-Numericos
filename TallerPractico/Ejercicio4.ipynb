{
 "cells": [
  {
   "cell_type": "markdown",
   "source": [
    "# Ejercicio 4\r\n",
    "Resuelva el siguiente sistema de ecuaciones por medio de la eliminación gaussiana sin pivoteo\r\n",
    "\r\n",
    "3x - 0.1y - 0.2z = 7.85\r\n",
    "\r\n",
    "0.1x + 7y + z = -19.3\r\n",
    "\r\n",
    "0.3x - 0.2y + 10z = 71.4"
   ],
   "metadata": {}
  },
  {
   "cell_type": "code",
   "execution_count": 8,
   "source": [
    "function eliminacion_gaussiana()\r\n",
    "    a = [3. 0.1 0.2 7.85; 0.1 7. 1. -19.3 ; 0.3 0.2 10. 71.4]\r\n",
    "    aux =[0. 0. 0. 0.]\r\n",
    "    \r\n",
    "    aux[1,:] = a[1,:] * (a[2,1] / a[1,1])  \r\n",
    "    a[2,:] = a[2,:] - aux[1,:]\r\n",
    "    \r\n",
    "\r\n",
    "    aux[1,:] = a[1,:] * (a[3,1] / a[1,1])  \r\n",
    "    a[3,:] = a[3,:] - aux[1,:]\r\n",
    "    \r\n",
    "\r\n",
    "    aux[1,:] = a[2,:] * (a[3,2] / a[2,2])  \r\n",
    "    a[3,:] = a[3,:] - aux[1,:]\r\n",
    "    \r\n",
    "    xyz = [0. 0. 0.]\r\n",
    "    xyz[3] = a[3,4] / a[3,3]\r\n",
    "    xyz[2] = (a[2,4] + xyz[3] * a[2,3])/a[2,2]\r\n",
    "    xyz[1] = (a[1,4] + xyz[3] * a[1,3] + xyz[2] * a[1,2])/a[1,1]\r\n",
    "\r\n",
    "    println(\"x: \", xyz[1], \" y: \", xyz[2], \" z: \", xyz[3])\r\n",
    "    \r\n",
    "end\r\n",
    "\r\n",
    "eliminacion_gaussiana()"
   ],
   "outputs": [
    {
     "output_type": "stream",
     "name": "stdout",
     "text": [
      "x: 3.0338463716159954 y: -1.7810083269023582 z: 7.148199737691108\n"
     ]
    }
   ],
   "metadata": {}
  }
 ],
 "metadata": {
  "orig_nbformat": 4,
  "language_info": {
   "name": "julia",
   "version": "1.6.2",
   "mimetype": "application/julia",
   "file_extension": ".jl"
  },
  "kernelspec": {
   "display_name": "Julia 1.6.2",
   "language": "julia",
   "name": "julia-1.6"
  }
 },
 "nbformat": 4,
 "nbformat_minor": 2
}