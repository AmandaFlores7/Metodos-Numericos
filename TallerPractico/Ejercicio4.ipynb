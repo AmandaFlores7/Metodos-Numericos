{
 "cells": [
  {
   "cell_type": "markdown",
   "source": [
    "Resuelva el siguiente sistema de ecuaciones por medio de la eliminación gaussiana sin pivoteo\r\n",
    "\r\n",
    "3x - 0.1y - 0.2z = 7.85\r\n",
    "\r\n",
    "0.1x + 7y + z = -19.3\r\n",
    "\r\n",
    "0.3x - 0.2y + 10z = 71.4"
   ],
   "metadata": {}
  },
  {
   "cell_type": "code",
   "execution_count": null,
   "source": [],
   "outputs": [],
   "metadata": {}
  }
 ],
 "metadata": {
  "orig_nbformat": 4,
  "language_info": {
   "name": "python"
  }
 },
 "nbformat": 4,
 "nbformat_minor": 2
}