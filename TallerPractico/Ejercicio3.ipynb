{
 "cells": [
  {
   "cell_type": "markdown",
   "source": [
    "# Ejercicio 3\r\n",
    "Realice una función en Julia que permita realizar el método de la secante para la\r\n",
    "función f(x) = sin(e*x^3)+ cos(3*e*x^5); x1 = 2,5 y x2 = 3. Que en cada iteración\r\n",
    "\r\n",
    "indique el nuevo intervalo [a, b] que se obtiene y el error relativo porcentual. (Por\r\n",
    "ejemplo, Iteración 1: [2.8, 3] - Error R.P = 60%, Iteración 2: [2.8, 2.92] - Error R.P =\r\n",
    "\r\n",
    "1,4%, etc. Use como criterio de término, un error del 0.05%."
   ],
   "metadata": {}
  },
  {
   "cell_type": "code",
   "execution_count": 1,
   "source": [
    "function secant(f::Function, x1::Number, x2::Number, tol::AbstractFloat=5e-4)\r\n",
    "    error = 1\r\n",
    "    i = 0\r\n",
    "\r\n",
    "    while error > tol\r\n",
    "        i += 1\r\n",
    "        y2 = f(x2)\r\n",
    "        y1 = f(x1)\r\n",
    "        x = x2 - y2 * (x2-x1)/(y2-y1)\r\n",
    "\r\n",
    "        error = abs( (x-x2)/x )\r\n",
    "        if error < tol\r\n",
    "            return x\r\n",
    "        end\r\n",
    "        println(\"Iteración \", i, \":[\", x1, \",\", x, \"] - Error R.P = \", round(error*100, digits=2), \"%\")\r\n",
    "        x1 = x2\r\n",
    "        x2 = x\r\n",
    "    end\r\n",
    "    \r\n",
    "    println(\"------------------\")\r\n",
    "    \r\n",
    "    return x2\r\n",
    "end\r\n",
    "\r\n",
    "# FUNCION \r\n",
    "f(x) =  sin(exp(1)*x^3)+ cos(3*exp(1)*x^5)\r\n",
    "\r\n",
    "# VARIABLES\r\n",
    "x1 = 2.5\r\n",
    "x2 = 3\r\n",
    "\r\n",
    "println(\"La raíz de la función es: \", secant(f, x1, x2) )"
   ],
   "outputs": [
    {
     "output_type": "stream",
     "name": "stdout",
     "text": [
      "Iteración 1:[2.5,1.7037167560835496] - Error R.P = 76.09%\n",
      "Iteración 2:[3,1.767406067807386] - Error R.P = 3.6%\n",
      "Iteración 3:[1.7037167560835496,1.7336319063006567] - Error R.P = 1.95%\n",
      "Iteración 4:[1.767406067807386,1.7623346819359502] - Error R.P = 1.63%\n",
      "Iteración 5:[1.7336319063006567,1.7194555808265666] - Error R.P = 2.49%\n",
      "Iteración 6:[1.7623346819359502,1.7206936278359162] - Error R.P = 0.07%\n",
      "La raíz de la función es: 1.7199490637981592\n"
     ]
    }
   ],
   "metadata": {}
  }
 ],
 "metadata": {
  "orig_nbformat": 4,
  "language_info": {
   "file_extension": ".jl",
   "name": "julia",
   "mimetype": "application/julia",
   "version": "1.6.2"
  },
  "kernelspec": {
   "name": "julia-1.6",
   "display_name": "Julia 1.6.2",
   "language": "julia"
  }
 },
 "nbformat": 4,
 "nbformat_minor": 2
}