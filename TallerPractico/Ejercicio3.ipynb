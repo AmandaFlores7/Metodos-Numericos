{
 "cells": [
  {
   "cell_type": "markdown",
   "source": [
    "Realice una función en Julia que permita realizar el método de la secante para la\r\n",
    "función f(x) = sin(e*x^3)+ cos(3*e*x^5); x1 = 2,5 y x2 = 3. Que en cada iteración\r\n",
    "\r\n",
    "indique el nuevo intervalo [a, b] que se obtiene y el error relativo porcentual. (Por\r\n",
    "ejemplo, Iteración 1: [2.8, 3] - Error R.P = 60%, Iteración 2: [2.8, 2.92] - Error R.P =\r\n",
    "\r\n",
    "1,4%, etc. Use como criterio de término, un error del 0.05%."
   ],
   "metadata": {}
  },
  {
   "cell_type": "code",
   "execution_count": null,
   "source": [],
   "outputs": [],
   "metadata": {}
  }
 ],
 "metadata": {
  "orig_nbformat": 4,
  "language_info": {
   "name": "python"
  }
 },
 "nbformat": 4,
 "nbformat_minor": 2
}