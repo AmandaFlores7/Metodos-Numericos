{
 "cells": [
  {
   "cell_type": "markdown",
   "source": [
    "Realice una función en Julia que permita realizar el método de la bisección para\r\n",
    "la ecuación x^3+4x^2-10=0. Para cada iteración deberá mostrar la evolución del\r\n",
    "\r\n",
    "error relativo hasta llegar un criterio de término del 0.03%. Al llegar a la iteración\r\n",
    "final, deberá graficar desde la iteración 1 hasta x, tanto el valor de m como el de\r\n",
    "\r\n",
    "f(m), ambos en el mismo gráfico, con diferentes estilos de línea. (Puede ser una\r\n",
    "continua y otra puntuada). Los límites iniciales, es decir, a y b serán [1, 1.5].\r\n"
   ],
   "metadata": {}
  },
  {
   "cell_type": "code",
   "execution_count": null,
   "source": [],
   "outputs": [],
   "metadata": {}
  }
 ],
 "metadata": {
  "orig_nbformat": 4,
  "language_info": {
   "name": "python"
  }
 },
 "nbformat": 4,
 "nbformat_minor": 2
}