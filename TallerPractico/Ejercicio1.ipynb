{
 "cells": [
  {
   "cell_type": "markdown",
   "source": [
    "Define dos funciones en JULIA, donde una de ellas sea capaz de convertir un\r\n",
    "número de hexadecimal a binario y la otra de binario a hexadecimal.\r\n",
    "\r\n",
    "convertir_a_binario(7B)\r\n",
    "\r\n",
    "“1111011”\r\n",
    "\r\n",
    "convertir_a_binario(F61F)\r\n",
    "\r\n",
    "“1111011011111”\r\n",
    "convertir_a_hexadecimal(11110110110)"
   ],
   "metadata": {}
  },
  {
   "cell_type": "code",
   "execution_count": null,
   "source": [],
   "outputs": [],
   "metadata": {}
  }
 ],
 "metadata": {
  "orig_nbformat": 4,
  "language_info": {
   "name": "python"
  }
 },
 "nbformat": 4,
 "nbformat_minor": 2
}