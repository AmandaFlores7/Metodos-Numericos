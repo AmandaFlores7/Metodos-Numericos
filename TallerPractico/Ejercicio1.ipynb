{
 "cells": [
  {
   "cell_type": "markdown",
   "source": [
    "Define dos funciones en JULIA, donde una de ellas sea capaz de convertir un\r\n",
    "número de hexadecimal a binario y la otra de binario a hexadecimal.\r\n",
    "\r\n",
    "convertir_a_binario(7B)\r\n",
    "\r\n",
    "“1111011”\r\n",
    "\r\n",
    "convertir_a_binario(F61F)\r\n",
    "\r\n",
    "“1111011011111”\r\n",
    "convertir_a_hexadecimal(11110110110)"
   ],
   "metadata": {}
  },
  {
   "cell_type": "code",
   "execution_count": null,
   "source": [
    "\r\n",
    "\r\n",
    "\r\n",
    "read(numero)\r\n",
    "\r\n",
    "convertir_a_binario(hexadecimal)\r\n",
    "\r\n",
    "function convertir_a_binario(hexadecimal)\r\n",
    "\r\n",
    "    \r\n",
    "    largo = length(hexadecimal)\r\n",
    "\r\n",
    "    for i in largo\r\n",
    "        digito = hexadecimal[i]\r\n",
    "        if digito == \"A\" digito = 10\r\n",
    "        elseif digito == \"B\" digito = 11\r\n",
    "        elseif digito == \"C\" digito = 12\r\n",
    "        elseif digito == \"D\" digito = 13\r\n",
    "        elseif digito == \"E\" digito = 14\r\n",
    "        elseif digito == \"F\" digito = 15\r\n",
    "        end\r\n",
    "        while digito / 2 >= 0\r\n",
    "            resto = digito % 2\r\n",
    "            if resto == 0\r\n",
    "                hexa = \"0\"*hexa\r\n",
    "            else \r\n",
    "                hexa = \"1\"*hexa\r\n",
    "            end\r\n",
    "            digito = digito / 2\r\n",
    "        end\r\n",
    "    end\r\n",
    "end"
   ],
   "outputs": [],
   "metadata": {}
  }
 ],
 "metadata": {
  "orig_nbformat": 4,
  "language_info": {
   "name": "python"
  }
 },
 "nbformat": 4,
 "nbformat_minor": 2
}