{
 "cells": [
  {
   "cell_type": "markdown",
   "source": [
    "Define dos funciones en JULIA, donde una de ellas sea capaz de convertir un\r\n",
    "número de hexadecimal a binario y la otra de binario a hexadecimal.\r\n",
    "\r\n",
    "convertir_a_binario(7B)\r\n",
    "\r\n",
    "“1111011”\r\n",
    "\r\n",
    "convertir_a_binario(F61F)\r\n",
    "\r\n",
    "“1111011011111”\r\n",
    "convertir_a_hexadecimal(11110110110)"
   ],
   "metadata": {}
  },
  {
   "cell_type": "code",
   "execution_count": 66,
   "source": [
    "function hexa_to_bin(number::String)\r\n",
    "    bin = \"\"\r\n",
    "    for digit in number\r\n",
    "        if !isdigit(digit)\r\n",
    "            if digit == 'A'\r\n",
    "                digit = \"10\"\r\n",
    "            elseif digit == 'B' \r\n",
    "                digit = \"11\"\r\n",
    "            elseif digit == 'C'\r\n",
    "                digit = \"12\"\r\n",
    "            elseif digit == 'D'\r\n",
    "                digit = \"13\"\r\n",
    "            elseif digit == 'E'\r\n",
    "                digit = \"14\"\r\n",
    "            elseif digit == 'F'\r\n",
    "                digit = \"15\"\r\n",
    "            end\r\n",
    "        end\r\n",
    "\r\n",
    "        numAux = parse(Int, digit)\r\n",
    "        entero_bin = \"\"\r\n",
    "        while numAux > 0\r\n",
    "            # Concatena resto del entero\r\n",
    "            entero_bin *= string(Int(numAux % 2)) \r\n",
    "            numAux = trunc(numAux / 2) \r\n",
    "        end\r\n",
    "        entero_bin = join([ i for i in entero_bin[end:-1:1] ]) # Da vuelta cadena\r\n",
    "\r\n",
    "        # Ajustar a 4 digitos\r\n",
    "        cero = \"\"\r\n",
    "        for i in 1:(4 - length(entero_bin))\r\n",
    "            cero *= \"0\"\r\n",
    "        end \r\n",
    "        entero_bin = cero * entero_bin\r\n",
    "        bin *= entero_bin\r\n",
    "    end\r\n",
    "    println( bin )\r\n",
    "end\r\n",
    "\r\n",
    "hexa_to_bin(\"AB\")"
   ],
   "outputs": [
    {
     "output_type": "stream",
     "name": "stdout",
     "text": [
      "10101011\n"
     ]
    }
   ],
   "metadata": {}
  },
  {
   "cell_type": "code",
   "execution_count": null,
   "source": [],
   "outputs": [],
   "metadata": {}
  }
 ],
 "metadata": {
  "orig_nbformat": 4,
  "language_info": {
   "name": "julia",
   "version": "1.6.2",
   "mimetype": "application/julia",
   "file_extension": ".jl"
  },
  "kernelspec": {
   "display_name": "Julia 1.6.2",
   "language": "julia",
   "name": "julia-1.6"
  }
 },
 "nbformat": 4,
 "nbformat_minor": 2
}