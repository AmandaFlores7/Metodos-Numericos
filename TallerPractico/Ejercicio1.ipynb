{
 "cells": [
  {
   "cell_type": "markdown",
   "source": [
    "# Ejercicio 1\r\n",
    "Define dos funciones en JULIA, donde una de ellas sea capaz de convertir un\r\n",
    "número de hexadecimal a binario y la otra de binario a hexadecimal.\r\n",
    "\r\n",
    "convertir_a_binario(7B)\r\n",
    "\r\n",
    "“1111011”\r\n",
    "\r\n",
    "convertir_a_binario(F61F)\r\n",
    "\r\n",
    "“1111011011111”\r\n",
    "convertir_a_hexadecimal(11110110110)"
   ],
   "metadata": {}
  },
  {
   "cell_type": "code",
   "execution_count": 5,
   "source": [
    "function convertir_a_binario(number::String)\r\n",
    "    bin = \"\"\r\n",
    "    for digit in number\r\n",
    "        if !isdigit(digit)\r\n",
    "            letters = Dict('A' => \"10\", 'B' => \"11\", 'C' => \"12\", 'D' => \"13\", 'E' => \"14\", 'F' => \"15\" )\r\n",
    "            digit = letters[digit]\r\n",
    "        end\r\n",
    "\r\n",
    "        numAux = parse(Int, digit)\r\n",
    "        entero_bin = \"\"\r\n",
    "        while numAux > 0\r\n",
    "            # Concatena resto del entero\r\n",
    "            entero_bin *= string(Int(numAux % 2)) \r\n",
    "            numAux = trunc(numAux / 2) \r\n",
    "        end\r\n",
    "        entero_bin = join([ i for i in entero_bin[end:-1:1] ]) # Da vuelta cadena\r\n",
    "\r\n",
    "        # Ajustar a 4 digitos\r\n",
    "        cero = \"\"\r\n",
    "        for i in 1:(4 - length(entero_bin))\r\n",
    "            cero *= \"0\"\r\n",
    "        end \r\n",
    "        entero_bin = cero * entero_bin\r\n",
    "        bin *= entero_bin\r\n",
    "    end\r\n",
    "    println( bin )\r\n",
    "end\r\n",
    "\r\n",
    "convertir_a_binario(\"F61F\")"
   ],
   "outputs": [
    {
     "output_type": "stream",
     "name": "stdout",
     "text": [
      "1111011000011111\n"
     ]
    }
   ],
   "metadata": {}
  },
  {
   "cell_type": "code",
   "execution_count": 6,
   "source": [
    "function convertir_a_hexadecimal(number::String)\r\n",
    "    # Ajusta ceros a la derecha para agrupar de 4 digitos.\r\n",
    "    if length(number) % 4 != 0\r\n",
    "        cero = \"\"\r\n",
    "        for i in 1:(4 - length(number) % 4)\r\n",
    "            cero *= \"0\"\r\n",
    "        end \r\n",
    "        number = cero * number\r\n",
    "    end\r\n",
    "    \r\n",
    "    # Cada 4 digitos se convierte a hexadecimal\r\n",
    "    letters = Dict(\"10\" => 'A', \"11\" => 'B', \"12\" => 'C', \"13\" => 'D', \"14\" => 'E', \"15\" => 'F' )\r\n",
    "    hexa = \"\"\r\n",
    "    for i in 1:4:length(number)\r\n",
    "        sub_bin = number[i:i+3]\r\n",
    "        sub_hexa = 0\r\n",
    "        e = 3\r\n",
    "        for d in sub_bin\r\n",
    "            sub_hexa += parse(Int,d) * 2^e\r\n",
    "            e -= 1\r\n",
    "        end\r\n",
    "        \r\n",
    "        # Conversión a letra para mayores de 10\r\n",
    "        if sub_hexa > 9\r\n",
    "            sub_hexa = letters[string(sub_hexa)]\r\n",
    "        end\r\n",
    "        hexa *= string(sub_hexa)\r\n",
    "    end\r\n",
    "    println(hexa)\r\n",
    "end\r\n",
    "\r\n",
    "convertir_a_hexadecimal(\"1111011000011111\")"
   ],
   "outputs": [
    {
     "output_type": "stream",
     "name": "stdout",
     "text": [
      "F61F\n"
     ]
    }
   ],
   "metadata": {}
  }
 ],
 "metadata": {
  "orig_nbformat": 4,
  "language_info": {
   "name": "julia",
   "version": "1.6.2",
   "mimetype": "application/julia",
   "file_extension": ".jl"
  },
  "kernelspec": {
   "display_name": "Julia 1.6.2",
   "language": "julia",
   "name": "julia-1.6"
  }
 },
 "nbformat": 4,
 "nbformat_minor": 2
}