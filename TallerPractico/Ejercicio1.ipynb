{
 "cells": [
  {
   "cell_type": "markdown",
   "source": [
    "Define dos funciones en JULIA, donde una de ellas sea capaz de convertir un\r\n",
    "número de hexadecimal a binario y la otra de binario a hexadecimal.\r\n",
    "\r\n",
    "convertir_a_binario(7B)\r\n",
    "\r\n",
    "“1111011”\r\n",
    "\r\n",
    "convertir_a_binario(F61F)\r\n",
    "\r\n",
    "“1111011011111”\r\n",
    "convertir_a_hexadecimal(11110110110)"
   ],
   "metadata": {}
  },
  {
   "cell_type": "code",
   "execution_count": 72,
   "source": [
    "function hexa_to_bin(number::String)\r\n",
    "    bin = \"\"\r\n",
    "    for digit in number\r\n",
    "        if !isdigit(digit)\r\n",
    "            letters = Dict('A' => \"10\", 'B' => \"11\", 'C' => \"12\", 'D' => \"13\", 'E' => \"14\", 'F' => \"15\" )\r\n",
    "            digit = letters[digit]\r\n",
    "        end\r\n",
    "\r\n",
    "        numAux = parse(Int, digit)\r\n",
    "        entero_bin = \"\"\r\n",
    "        while numAux > 0\r\n",
    "            # Concatena resto del entero\r\n",
    "            entero_bin *= string(Int(numAux % 2)) \r\n",
    "            numAux = trunc(numAux / 2) \r\n",
    "        end\r\n",
    "        entero_bin = join([ i for i in entero_bin[end:-1:1] ]) # Da vuelta cadena\r\n",
    "\r\n",
    "        # Ajustar a 4 digitos\r\n",
    "        cero = \"\"\r\n",
    "        for i in 1:(4 - length(entero_bin))\r\n",
    "            cero *= \"0\"\r\n",
    "        end \r\n",
    "        entero_bin = cero * entero_bin\r\n",
    "        bin *= entero_bin\r\n",
    "    end\r\n",
    "    println( bin )\r\n",
    "end\r\n",
    "\r\n",
    "hexa_to_bin(\"7B\")"
   ],
   "outputs": [
    {
     "output_type": "stream",
     "name": "stdout",
     "text": [
      "01111011\n"
     ]
    }
   ],
   "metadata": {}
  },
  {
   "cell_type": "code",
   "execution_count": 85,
   "source": [
    "function bin_to_hexa(number::String)\r\n",
    "    # Ajusta ceros a la derecha para agrupar de 4 digitos.\r\n",
    "    if length(number) % 4 != 0\r\n",
    "        cero = \"\"\r\n",
    "        for i in 1:(4 - length(number) % 4)\r\n",
    "            cero *= \"0\"\r\n",
    "        end \r\n",
    "        number = cero * number\r\n",
    "    end\r\n",
    "    println(number)\r\n",
    "    \r\n",
    "    # Cada 4 digitos se convierte a hexadecimal\r\n",
    "    \r\n",
    "end\r\n",
    "\r\n",
    "bin_to_hexa(\"110110110\")"
   ],
   "outputs": [
    {
     "output_type": "stream",
     "name": "stdout",
     "text": [
      "9\n",
      "000110110110\n"
     ]
    }
   ],
   "metadata": {}
  },
  {
   "cell_type": "code",
   "execution_count": 104,
   "source": [
    "a = \"11110000\"\r\n",
    "\r\n",
    "for i in 1:(length(a)/4)\r\n",
    "    println( a[i:i+3])\r\n",
    "end\r\n",
    "    # 1:4 | i= 1\r\n",
    "    # 5:8 | i = 2"
   ],
   "outputs": [
    {
     "output_type": "error",
     "ename": "LoadError",
     "evalue": "MethodError: no method matching getindex(::String, ::StepRangeLen{Float64, Base.TwicePrecision{Float64}, Base.TwicePrecision{Float64}})\n\u001b[0mClosest candidates are:\n\u001b[0m  getindex(::AbstractString, \u001b[91m::Colon\u001b[39m) at strings/basic.jl:189\n\u001b[0m  getindex(::String, \u001b[91m::Int64\u001b[39m) at strings/string.jl:222\n\u001b[0m  getindex(::AbstractString, \u001b[91m::Integer\u001b[39m) at strings/basic.jl:184\n\u001b[0m  ...",
     "traceback": [
      "MethodError: no method matching getindex(::String, ::StepRangeLen{Float64, Base.TwicePrecision{Float64}, Base.TwicePrecision{Float64}})\n\u001b[0mClosest candidates are:\n\u001b[0m  getindex(::AbstractString, \u001b[91m::Colon\u001b[39m) at strings/basic.jl:189\n\u001b[0m  getindex(::String, \u001b[91m::Int64\u001b[39m) at strings/string.jl:222\n\u001b[0m  getindex(::AbstractString, \u001b[91m::Integer\u001b[39m) at strings/basic.jl:184\n\u001b[0m  ...",
      "",
      "Stacktrace:",
      " [1] top-level scope",
      "   @ .\\In[104]:4",
      " [2] eval",
      "   @ .\\boot.jl:360 [inlined]",
      " [3] include_string(mapexpr::typeof(REPL.softscope), mod::Module, code::String, filename::String)",
      "   @ Base .\\loading.jl:1116"
     ]
    }
   ],
   "metadata": {}
  },
  {
   "cell_type": "code",
   "execution_count": 108,
   "source": [
    "a = \"11110000\"\r\n",
    "\r\n",
    "for i in 1:2\r\n",
    "    #println(i)\r\n",
    "    for j in 1:4\r\n",
    "        println( a[i:j] )\r\n",
    "    end\r\n",
    "end"
   ],
   "outputs": [
    {
     "output_type": "stream",
     "name": "stdout",
     "text": [
      "1\n",
      "11\n",
      "111\n",
      "1111\n",
      "\n",
      "1\n",
      "11\n",
      "111\n"
     ]
    }
   ],
   "metadata": {}
  },
  {
   "cell_type": "code",
   "execution_count": null,
   "source": [],
   "outputs": [],
   "metadata": {}
  }
 ],
 "metadata": {
  "orig_nbformat": 4,
  "language_info": {
   "name": "julia",
   "version": "1.6.2",
   "mimetype": "application/julia",
   "file_extension": ".jl"
  },
  "kernelspec": {
   "display_name": "Julia 1.6.2",
   "language": "julia",
   "name": "julia-1.6"
  }
 },
 "nbformat": 4,
 "nbformat_minor": 2
}